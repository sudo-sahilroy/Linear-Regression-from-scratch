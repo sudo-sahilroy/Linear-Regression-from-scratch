{
  "nbformat": 4,
  "nbformat_minor": 0,
  "metadata": {
    "colab": {
      "name": "linear regression from scratch.ipynb",
      "provenance": []
    },
    "kernelspec": {
      "name": "python3",
      "display_name": "Python 3"
    },
    "language_info": {
      "name": "python"
    }
  },
  "cells": [
    {
      "cell_type": "code",
      "execution_count": 1,
      "metadata": {
        "id": "ZNWUzV8rudIy"
      },
      "outputs": [],
      "source": [
        "import numpy as np\n",
        "import pandas as pd\n",
        "import matplotlib.pyplot as plt"
      ]
    },
    {
      "cell_type": "code",
      "source": [
        "class Linear_Regression:\n",
        "\tdef __init__(self,train_data,train_label):\n",
        "\t\tself.train_data=train_data\n",
        "\t\tself.train_label=train_label\n",
        "\t\tself.weight=0\n",
        "\t\tself.epochs=2850\n",
        "\t\tself.bias=0\n",
        "\t\tself.lr=0.0071\n",
        "\t\n",
        "\tdef predict(self,data):\n",
        "\t\treturn np.multiply(data,self.weight)+self.bias\n",
        "\tdef train(self,data,label):\n",
        "\n",
        "\t\tdldb=0\n",
        "\t\tdldw=0\n",
        "\t\tprint(self.test(data,label))\n",
        "\t\tfor e in range(self.epochs):\n",
        "\t\t\tpred=self.predict(data)\n",
        "\t\t\tfor i in range(pred.shape[0]):\n",
        "\t\t\t\tdldw+=(pred[i]-label[i])*data[i]\n",
        "\t\t\t\tdldb+=(pred[i]-label[i])\n",
        "\t\t\tself.bias-=self.lr*(1/data.shape[0])*dldb\n",
        "\t\t\tself.weight-=self.lr*(1/data.shape[0])*dldw\n",
        "\t\t\tif e%50==0:\n",
        "\t\t\t\tprint(self.test(data,label))\n",
        "\t\tprint(self.bias)\n",
        "\t\tprint(self.weight)\n",
        "\t\treturn self.weight,self.bias\n",
        "\n",
        "\tdef test(self,data,label):\n",
        "\t\tpred=self.predict(data)\n",
        "\t\terror=0\n",
        "\t\tfor i in range(pred.shape[0]):\n",
        "\t\t\terror+=(1/2*data.shape[0])*((pred[i]-label[i])**2)\n",
        "\t\treturn error"
      ],
      "metadata": {
        "id": "G9ErwxhhunxT"
      },
      "execution_count": 2,
      "outputs": []
    },
    {
      "cell_type": "code",
      "source": [
        "if __name__ == '__main__':\n",
        "\tz=pd.read_csv('example_dataset.txt')\n",
        "\tz=np.array(z.T)\n",
        "\ttrain_data=np.reshape(z[0],[z.shape[1],1])\n",
        "\ttrain_label=np.reshape(z[1],[z.shape[1],1])\n",
        "\tlg=Linear_Regression(train_data,train_label)\n",
        "\tw,b=lg.train(train_data,train_label)\n",
        "\tfig = plt.figure()\n",
        "\tax = fig.add_subplot()\t\n",
        "\tax.set_xlabel('X')\n",
        "\tax.set_ylabel('Y')\n",
        "\tax.scatter(train_data,train_label, c='g', label=\"ground truth\")\n",
        "\tplt.plot(train_data, train_data*w + b,linestyle='-')\t\n",
        "\tax.legend()\n",
        "\tplt.show()"
      ],
      "metadata": {
        "colab": {
          "base_uri": "https://localhost:8080/",
          "height": 1000
        },
        "id": "YgnL6OvzutoH",
        "outputId": "a2497a2a-00d2-4f7c-80a1-9833351c9973"
      },
      "execution_count": 4,
      "outputs": [
        {
          "output_type": "stream",
          "name": "stdout",
          "text": [
            "[283806.33159487]\n",
            "[87635.76587311]\n",
            "[278107.38200982]\n",
            "[68468.6872705]\n",
            "[297596.82766216]\n",
            "[49810.42608317]\n",
            "[314090.52631428]\n",
            "[36758.67924514]\n",
            "[322706.90960098]\n",
            "[33110.12710125]\n",
            "[321408.52574343]\n",
            "[38790.80643831]\n",
            "[312344.15524716]\n",
            "[49995.37037252]\n",
            "[300255.3429848]\n",
            "[61931.73159967]\n",
            "[289101.90695949]\n",
            "[72184.81702542]\n",
            "[279347.07221724]\n",
            "[82268.05068645]\n",
            "[267862.47833286]\n",
            "[96245.80550395]\n",
            "[250514.2285376]\n",
            "[117432.80444666]\n",
            "[225548.03424598]\n",
            "[145570.77995531]\n",
            "[195310.87111565]\n",
            "[176539.32337708]\n",
            "[165048.7394146]\n",
            "[204825.24545595]\n",
            "[139635.033591]\n",
            "[226979.3195587]\n",
            "[120580.94104116]\n",
            "[243575.26411365]\n",
            "[105474.76731009]\n",
            "[258270.02445911]\n",
            "[90239.17055719]\n",
            "[274662.0846011]\n",
            "[72556.35887023]\n",
            "[293237.39202114]\n",
            "[53967.11894244]\n",
            "[310627.63380177]\n",
            "[39111.08879706]\n",
            "[321730.03994771]\n",
            "[32646.9408994]\n",
            "[323164.44409131]\n",
            "[36072.86251291]\n",
            "[315572.83788637]\n",
            "[46742.59845878]\n",
            "[303101.64005097]\n",
            "[59786.07480872]\n",
            "[290443.08996685]\n",
            "[71544.28674081]\n",
            "[279575.86565818]\n",
            "[82035.11736696]\n",
            "[268559.75046371]\n",
            "[94671.08887306]\n",
            "[253249.60785211]\n",
            "[-4.08199102]\n",
            "[1.38167172]\n"
          ]
        },
        {
          "output_type": "display_data",
          "data": {
            "text/plain": [
              "<Figure size 432x288 with 1 Axes>"
            ],
            "image/png": "[encoded data removed]"
          },
          "metadata": {
            "needs_background": "light"
          }
        }
      ]
    }
  ]
}